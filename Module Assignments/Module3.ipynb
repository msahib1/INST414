{
 "cells": [
  {
   "cell_type": "markdown",
   "metadata": {},
   "source": [
    "## Import Libraries"
   ]
  },
  {
   "cell_type": "code",
   "execution_count": 22,
   "metadata": {},
   "outputs": [],
   "source": [
    "import pandas as pd\n",
    "import numpy as np\n",
    "from sklearn.preprocessing import StandardScaler\n",
    "from scipy.spatial.distance import cdist\n",
    "import matplotlib.pyplot as plt\n"
   ]
  },
  {
   "cell_type": "markdown",
   "metadata": {},
   "source": [
    "## Adjust Column Width"
   ]
  },
  {
   "cell_type": "code",
   "execution_count": 23,
   "metadata": {},
   "outputs": [],
   "source": [
    "pd.set_option('display.max_columns', None) \n",
    "pd.set_option('display.width', 200)  \n",
    "pd.set_option('display.colheader_justify', 'center') "
   ]
  },
  {
   "cell_type": "markdown",
   "metadata": {},
   "source": [
    "## Load Dataset"
   ]
  },
  {
   "cell_type": "code",
   "execution_count": 24,
   "metadata": {},
   "outputs": [],
   "source": [
    "df = pd.read_csv(\"/Users/muneebsahibzada/Downloads/Automobile.csv\")"
   ]
  },
  {
   "cell_type": "markdown",
   "metadata": {},
   "source": [
    "## Select Relevant Numerical Features\n"
   ]
  },
  {
   "cell_type": "code",
   "execution_count": 25,
   "metadata": {},
   "outputs": [],
   "source": [
    "numerical_features = [\"mpg\", \"cylinders\", \"displacement\", \"horsepower\", \"weight\", \"acceleration\", \"model_year\"]"
   ]
  },
  {
   "cell_type": "markdown",
   "metadata": {},
   "source": [
    "## Capitalize Car Names\n"
   ]
  },
  {
   "cell_type": "code",
   "execution_count": 26,
   "metadata": {},
   "outputs": [],
   "source": [
    "df[\"name\"] = df[\"name\"].str.title()"
   ]
  },
  {
   "cell_type": "markdown",
   "metadata": {},
   "source": [
    "## Normalize Data"
   ]
  },
  {
   "cell_type": "code",
   "execution_count": 27,
   "metadata": {},
   "outputs": [],
   "source": [
    "scaler = StandardScaler()\n",
    "df_scaled = pd.DataFrame(scaler.fit_transform(df[numerical_features]), columns=numerical_features)"
   ]
  },
  {
   "cell_type": "markdown",
   "metadata": {},
   "source": [
    "## Define Query Cars and Their Indices\n"
   ]
  },
  {
   "cell_type": "code",
   "execution_count": 28,
   "metadata": {},
   "outputs": [],
   "source": [
    "query_indices = {\n",
    "    \"1971 Ford Mustang\": df[(df[\"name\"].str.contains(\"Ford Mustang\")) & (df[\"model_year\"] == 71)].index[0],\n",
    "    \"1982 Toyota Corolla\": df[(df[\"name\"].str.contains(\"Toyota Corolla\")) & (df[\"model_year\"] == 82)].index[0],\n",
    "    \"1982 Honda Civic\": df[(df[\"name\"].str.contains(\"Honda Civic\")) & (df[\"model_year\"] == 82)].index[0]\n",
    "}\n"
   ]
  },
  {
   "cell_type": "markdown",
   "metadata": {},
   "source": [
    "## Compute Euclidean Distances\n"
   ]
  },
  {
   "cell_type": "code",
   "execution_count": 29,
   "metadata": {},
   "outputs": [],
   "source": [
    "distances = cdist(df_scaled[numerical_features], df_scaled[numerical_features], metric=\"euclidean\")"
   ]
  },
  {
   "cell_type": "markdown",
   "metadata": {},
   "source": [
    "## Find Top 10 Similar Cars\n"
   ]
  },
  {
   "cell_type": "code",
   "execution_count": 30,
   "metadata": {},
   "outputs": [],
   "source": [
    "top_similar_cars = {}\n",
    "for car, idx in query_indices.items():\n",
    "    similar_indices = distances[idx].argsort()[1:11] \n",
    "    top_similar_cars[car] = df.iloc[similar_indices][[\"name\", \"mpg\", \"cylinders\", \"displacement\", \"horsepower\", \"weight\", \"acceleration\", \"model_year\"]]\n"
   ]
  },
  {
   "cell_type": "markdown",
   "metadata": {},
   "source": [
    "## Display Results"
   ]
  },
  {
   "cell_type": "code",
   "execution_count": 31,
   "metadata": {},
   "outputs": [
    {
     "name": "stdout",
     "output_type": "stream",
     "text": [
      "Top 10 similar cars to 1971 Ford Mustang:\n",
      "                name              mpg  cylinders  displacement  horsepower  weight  acceleration  model_year\n",
      "47             Pontiac Firebird  19.0      6          250.0        100.0     3282       15.0          71    \n",
      "36              Ford Torino 500  19.0      6          250.0         88.0     3302       15.5          71    \n",
      "37                  Amc Matador  18.0      6          232.0        100.0     3288       15.5          71    \n",
      "35    Chevrolet Chevelle Malibu  17.0      6          250.0        100.0     3329       15.5          71    \n",
      "45   Amc Hornet Sportabout (Sw)  18.0      6          258.0        110.0     2962       13.5          71    \n",
      "34    Plymouth Satellite Custom  16.0      6          225.0        105.0     3439       15.5          71    \n",
      "107                 Amc Gremlin  18.0      6          232.0        100.0     2789       15.0          73    \n",
      "16                   Amc Hornet  18.0      6          199.0         97.0     2774       15.5          70    \n",
      "99                   Amc Hornet  18.0      6          232.0        100.0     2945       16.0          73    \n",
      "33                  Amc Gremlin  19.0      6          232.0        100.0     2634       13.0          71    \n",
      "\n",
      "\n",
      "Top 10 similar cars to 1982 Toyota Corolla:\n",
      "               name              mpg  cylinders  displacement  horsepower  weight  acceleration  model_year\n",
      "379             Mercury Lynx L  36.0      4           98.0        70.0      2125       17.3          82    \n",
      "356             Toyota Corolla  32.4      4          108.0        75.0      2350       16.8          81    \n",
      "351             Ford Escort 4W  34.4      4           98.0        65.0      2045       16.2          81    \n",
      "346                     Subaru  32.3      4           97.0        67.0      2065       17.8          81    \n",
      "349                Mazda Glc 4  34.1      4           91.0        68.0      1985       16.0          81    \n",
      "337               Honda Accord  32.4      4          107.0        72.0      2290       17.0          80    \n",
      "377           Mazda Glc Custom  31.0      4           91.0        68.0      1970       17.6          82    \n",
      "384         Honda Civic (Auto)  32.0      4           91.0        67.0      1965       15.7          82    \n",
      "369  Chevrolet Cavalier 2-Door  34.0      4          112.0        88.0      2395       18.0          82    \n",
      "385              Datsun 310 Gx  38.0      4           91.0        67.0      1995       16.2          82    \n",
      "\n",
      "\n",
      "Top 10 similar cars to 1982 Honda Civic:\n",
      "              name            mpg  cylinders  displacement  horsepower  weight  acceleration  model_year\n",
      "378  Plymouth Horizon Miser  38.0      4          105.0        63.0      2125       14.7          82    \n",
      "375     Volkswagen Rabbit L  36.0      4          105.0        74.0      1980       15.3          82    \n",
      "385           Datsun 310 Gx  38.0      4           91.0        67.0      1995       16.2          82    \n",
      "381            Honda Accord  36.0      4          107.0        75.0      2205       14.5          82    \n",
      "344          Plymouth Champ  39.0      4           86.0        64.0      1875       16.4          81    \n",
      "350      Plymouth Horizon 4  34.7      4          105.0        63.0      2215       14.9          81    \n",
      "349             Mazda Glc 4  34.1      4           91.0        68.0      1985       16.0          81    \n",
      "345        Honda Civic 1300  35.1      4           81.0        60.0      1760       16.1          81    \n",
      "351          Ford Escort 4W  34.4      4           98.0        65.0      2045       16.2          81    \n",
      "380        Nissan Stanza Xe  36.0      4          120.0        88.0      2160       14.5          82    \n",
      "\n",
      "\n"
     ]
    }
   ],
   "source": [
    "for car, similar_cars in top_similar_cars.items():\n",
    "    print(f\"Top 10 similar cars to {car}:\")\n",
    "    print(similar_cars)\n",
    "    print(\"\\n\")"
   ]
  },
  {
   "cell_type": "markdown",
   "metadata": {},
   "source": [
    "## Visualization (example for one car)\n"
   ]
  },
  {
   "cell_type": "code",
   "execution_count": 32,
   "metadata": {},
   "outputs": [
    {
     "data": {
      "image/png": "[encoded data removed]",
      "text/plain": [
       "<Figure size 1000x500 with 1 Axes>"
      ]
     },
     "metadata": {},
     "output_type": "display_data"
    }
   ],
   "source": [
    "plt.figure(figsize=(10, 5))\n",
    "plt.barh(top_similar_cars[\"1971 Ford Mustang\"][\"name\"], top_similar_cars[\"1971 Ford Mustang\"][\"horsepower\"], color=\"blue\")\n",
    "plt.xlabel(\"Horsepower\")\n",
    "plt.ylabel(\"Car Model\")\n",
    "plt.title(\"Top 10 Similar Cars to 1971 Ford Mustang by Horsepower\")\n",
    "plt.gca().invert_yaxis()\n",
    "plt.show()"
   ]
  }
 ],
 "metadata": {
  "kernelspec": {
   "display_name": "Python 3",
   "language": "python",
   "name": "python3"
  },
  "language_info": {
   "codemirror_mode": {
    "name": "ipython",
    "version": 3
   },
   "file_extension": ".py",
   "mimetype": "text/x-python",
   "name": "python",
   "nbconvert_exporter": "python",
   "pygments_lexer": "ipython3",
   "version": "3.13.2"
  }
 },
 "nbformat": 4,
 "nbformat_minor": 2
}
