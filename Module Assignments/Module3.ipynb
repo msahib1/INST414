{
 "cells": [
  {
   "cell_type": "markdown",
   "metadata": {},
   "source": [
    "## Import Libraries"
   ]
  },
  {
   "cell_type": "code",
   "execution_count": 1,
   "metadata": {},
   "outputs": [],
   "source": [
    "import pandas as pd\n",
    "import numpy as np\n",
    "from sklearn.preprocessing import StandardScaler\n",
    "from scipy.spatial.distance import cdist\n",
    "import matplotlib.pyplot as plt"
   ]
  },
  {
   "cell_type": "markdown",
   "metadata": {},
   "source": [
    "## Load Dataset"
   ]
  },
  {
   "cell_type": "code",
   "execution_count": 2,
   "metadata": {},
   "outputs": [],
   "source": [
    "df = pd.read_csv(\"/Users/muneebsahibzada/Downloads/Automobile.csv\")"
   ]
  },
  {
   "cell_type": "markdown",
   "metadata": {},
   "source": [
    "## Select Relevant Numerical Features\n"
   ]
  },
  {
   "cell_type": "code",
   "execution_count": 3,
   "metadata": {},
   "outputs": [],
   "source": [
    "numerical_features = [\"mpg\", \"cylinders\", \"displacement\", \"horsepower\", \"weight\", \"acceleration\", \"model_year\"]"
   ]
  },
  {
   "cell_type": "markdown",
   "metadata": {},
   "source": [
    "## Normalize Data"
   ]
  },
  {
   "cell_type": "code",
   "execution_count": 4,
   "metadata": {},
   "outputs": [],
   "source": [
    "scaler = StandardScaler()\n",
    "df_scaled = pd.DataFrame(scaler.fit_transform(df[numerical_features]), columns=numerical_features)"
   ]
  },
  {
   "cell_type": "markdown",
   "metadata": {},
   "source": [
    "## Define Query Cars and Their Indices\n"
   ]
  },
  {
   "cell_type": "code",
   "execution_count": 5,
   "metadata": {},
   "outputs": [],
   "source": [
    "# Define the list of query cars\n",
    "query_cars = [\"Ford Mustang\", \"Honda Civic\", \"Toyota Corolla\"]\n",
    "\n",
    "# Create a dictionary of query indices\n",
    "query_indices = {car: df[df[\"name\"].str.lower().str.contains(car.lower())].index[0] for car in query_cars}"
   ]
  },
  {
   "cell_type": "markdown",
   "metadata": {},
   "source": [
    "## Compute Euclidean Distances\n"
   ]
  },
  {
   "cell_type": "code",
   "execution_count": 6,
   "metadata": {},
   "outputs": [],
   "source": [
    "distances = cdist(df_scaled[numerical_features], df_scaled[numerical_features], metric=\"euclidean\")"
   ]
  },
  {
   "cell_type": "markdown",
   "metadata": {},
   "source": [
    "## Find Top 10 Similar Cars\n"
   ]
  },
  {
   "cell_type": "code",
   "execution_count": 7,
   "metadata": {},
   "outputs": [],
   "source": [
    "top_similar_cars = {}\n",
    "for car, idx in query_indices.items():\n",
    "    similar_indices = distances[idx].argsort()[1:11] \n",
    "    top_similar_cars[car] = df.iloc[similar_indices][[\"name\", \"mpg\", \"cylinders\", \"displacement\", \"horsepower\", \"weight\", \"acceleration\", \"model_year\"]]\n"
   ]
  },
  {
   "cell_type": "markdown",
   "metadata": {},
   "source": [
    "## Display Results"
   ]
  },
  {
   "cell_type": "code",
   "execution_count": 8,
   "metadata": {},
   "outputs": [
    {
     "name": "stdout",
     "output_type": "stream",
     "text": [
      "Top 10 similar cars to Ford Mustang:\n",
      "                           name   mpg  cylinders  displacement  horsepower  \\\n",
      "47             pontiac firebird  19.0          6         250.0       100.0   \n",
      "36              ford torino 500  19.0          6         250.0        88.0   \n",
      "37                  amc matador  18.0          6         232.0       100.0   \n",
      "35    chevrolet chevelle malibu  17.0          6         250.0       100.0   \n",
      "45   amc hornet sportabout (sw)  18.0          6         258.0       110.0   \n",
      "34    plymouth satellite custom  16.0          6         225.0       105.0   \n",
      "107                 amc gremlin  18.0          6         232.0       100.0   \n",
      "16                   amc hornet  18.0          6         199.0        97.0   \n",
      "99                   amc hornet  18.0          6         232.0       100.0   \n",
      "33                  amc gremlin  19.0          6         232.0       100.0   \n",
      "\n",
      "     weight  acceleration  model_year  \n",
      "47     3282          15.0          71  \n",
      "36     3302          15.5          71  \n",
      "37     3288          15.5          71  \n",
      "35     3329          15.5          71  \n",
      "45     2962          13.5          71  \n",
      "34     3439          15.5          71  \n",
      "107    2789          15.0          73  \n",
      "16     2774          15.5          70  \n",
      "99     2945          16.0          73  \n",
      "33     2634          13.0          71  \n",
      "\n",
      "\n",
      "Top 10 similar cars to Honda Civic:\n",
      "                            name   mpg  cylinders  displacement  horsepower  \\\n",
      "150                       subaru  26.0          4         108.0        93.0   \n",
      "177                   audi 100ls  23.0          4         115.0        95.0   \n",
      "114         fiat 124 sport coupe  26.0          4          98.0        90.0   \n",
      "82   toyouta corona mark ii (sw)  23.0          4         120.0        97.0   \n",
      "122                    saab 99le  24.0          4         121.0       110.0   \n",
      "184                     capri ii  25.0          4         140.0        92.0   \n",
      "57         toyota corona hardtop  24.0          4         113.0        95.0   \n",
      "143                   opel manta  26.0          4          97.0        78.0   \n",
      "171                toyota corona  24.0          4         134.0        96.0   \n",
      "179                  volvo 244dl  22.0          4         121.0        98.0   \n",
      "\n",
      "     weight  acceleration  model_year  \n",
      "150    2391          15.5          74  \n",
      "177    2694          15.0          75  \n",
      "114    2265          15.5          73  \n",
      "82     2506          14.5          72  \n",
      "122    2660          14.0          73  \n",
      "184    2572          14.9          76  \n",
      "57     2278          15.5          72  \n",
      "143    2300          14.5          74  \n",
      "171    2702          13.5          75  \n",
      "179    2945          14.5          75  \n",
      "\n",
      "\n",
      "Top 10 similar cars to Toyota Corolla:\n",
      "                             name   mpg  cylinders  displacement  horsepower  \\\n",
      "51                    peugeot 304  30.0          4          79.0        70.0   \n",
      "55           volkswagen model 111  27.0          4          97.0        60.0   \n",
      "54                    datsun 1200  35.0          4          72.0        69.0   \n",
      "117                      fiat 128  29.0          4          68.0        49.0   \n",
      "129                   datsun b210  31.0          4          79.0        67.0   \n",
      "145                    datsun 710  32.0          4          83.0        61.0   \n",
      "56               plymouth cricket  26.0          4          91.0        70.0   \n",
      "79                renault 12 (sw)  26.0          4          96.0        69.0   \n",
      "19   volkswagen 1131 deluxe sedan  26.0          4          97.0        46.0   \n",
      "131           toyota corolla 1200  32.0          4          71.0        65.0   \n",
      "\n",
      "     weight  acceleration  model_year  \n",
      "51     2074          19.5          71  \n",
      "55     1834          19.0          71  \n",
      "54     1613          18.0          71  \n",
      "117    1867          19.5          73  \n",
      "129    1950          19.0          74  \n",
      "145    2003          19.0          74  \n",
      "56     1955          20.5          71  \n",
      "79     2189          18.0          72  \n",
      "19     1835          20.5          70  \n",
      "131    1836          21.0          74  \n",
      "\n",
      "\n"
     ]
    }
   ],
   "source": [
    "for car, similar_cars in top_similar_cars.items():\n",
    "    print(f\"Top 10 similar cars to {car}:\")\n",
    "    print(similar_cars)\n",
    "    print(\"\\n\")"
   ]
  },
  {
   "cell_type": "markdown",
   "metadata": {},
   "source": [
    "## Visualization (example for one car)\n"
   ]
  },
  {
   "cell_type": "code",
   "execution_count": 9,
   "metadata": {},
   "outputs": [
    {
     "data": {
      "image/png": "[encoded data removed]",
      "text/plain": [
       "<Figure size 1000x500 with 1 Axes>"
      ]
     },
     "metadata": {},
     "output_type": "display_data"
    }
   ],
   "source": [
    "plt.figure(figsize=(10, 5))\n",
    "plt.barh(top_similar_cars[\"Ford Mustang\"][\"name\"], top_similar_cars[\"Ford Mustang\"][\"horsepower\"], color=\"blue\")\n",
    "plt.xlabel(\"Horsepower\")\n",
    "plt.ylabel(\"Car Model\")\n",
    "plt.title(\"Top 10 Similar Cars to Ford Mustang by Horsepower\")\n",
    "plt.gca().invert_yaxis()\n",
    "plt.show()"
   ]
  }
 ],
 "metadata": {
  "kernelspec": {
   "display_name": "Python 3",
   "language": "python",
   "name": "python3"
  },
  "language_info": {
   "codemirror_mode": {
    "name": "ipython",
    "version": 3
   },
   "file_extension": ".py",
   "mimetype": "text/x-python",
   "name": "python",
   "nbconvert_exporter": "python",
   "pygments_lexer": "ipython3",
   "version": "3.13.2"
  }
 },
 "nbformat": 4,
 "nbformat_minor": 2
}
