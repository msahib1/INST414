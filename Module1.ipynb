{
 "cells": [
  {
   "cell_type": "markdown",
   "id": "cbf7cf82",
   "metadata": {},
   "source": [
    "# Car Price Data Analysis\n",
    "This notebook explores factors affecting car prices using visualization and statistical analysis.\n",
    "Link of original dataset: https://www.kaggle.com/datasets/asinow/car-price-dataset\n"
   ]
  },
  {
   "cell_type": "code",
   "execution_count": 1,
   "id": "c9da7c35",
   "metadata": {},
   "outputs": [
    {
     "ename": "ModuleNotFoundError",
     "evalue": "No module named 'seaborn'",
     "output_type": "error",
     "traceback": [
      "\u001b[0;31m---------------------------------------------------------------------------\u001b[0m",
      "\u001b[0;31mModuleNotFoundError\u001b[0m                       Traceback (most recent call last)",
      "Cell \u001b[0;32mIn[1], line 3\u001b[0m\n\u001b[1;32m      1\u001b[0m \u001b[38;5;28;01mimport\u001b[39;00m\u001b[38;5;250m \u001b[39m\u001b[38;5;21;01mpandas\u001b[39;00m\u001b[38;5;250m \u001b[39m\u001b[38;5;28;01mas\u001b[39;00m\u001b[38;5;250m \u001b[39m\u001b[38;5;21;01mpd\u001b[39;00m\n\u001b[1;32m      2\u001b[0m \u001b[38;5;28;01mimport\u001b[39;00m\u001b[38;5;250m \u001b[39m\u001b[38;5;21;01mmatplotlib\u001b[39;00m\u001b[38;5;21;01m.\u001b[39;00m\u001b[38;5;21;01mpyplot\u001b[39;00m\u001b[38;5;250m \u001b[39m\u001b[38;5;28;01mas\u001b[39;00m\u001b[38;5;250m \u001b[39m\u001b[38;5;21;01mplt\u001b[39;00m\n\u001b[0;32m----> 3\u001b[0m \u001b[38;5;28;01mimport\u001b[39;00m\u001b[38;5;250m \u001b[39m\u001b[38;5;21;01mseaborn\u001b[39;00m\u001b[38;5;250m \u001b[39m\u001b[38;5;28;01mas\u001b[39;00m\u001b[38;5;250m \u001b[39m\u001b[38;5;21;01msns\u001b[39;00m\n\u001b[1;32m      5\u001b[0m \u001b[38;5;66;03m# Load the dataset\u001b[39;00m\n\u001b[1;32m      6\u001b[0m file_path \u001b[38;5;241m=\u001b[39m \u001b[38;5;124m\"\u001b[39m\u001b[38;5;124m/Users/muneebsahibzada/Downloads/car_price_dataset.csv\u001b[39m\u001b[38;5;124m\"\u001b[39m\n",
      "\u001b[0;31mModuleNotFoundError\u001b[0m: No module named 'seaborn'"
     ]
    }
   ],
   "source": [
    "import pandas as pd\n",
    "import matplotlib.pyplot as plt\n",
    "import seaborn as sns\n",
    "\n",
    "# Load the dataset\n",
    "file_path = \"/Users/muneebsahibzada/Downloads/car_price_dataset.csv\"\n",
    "df = pd.read_csv(file_path)"
   ]
  },
  {
   "cell_type": "markdown",
   "id": "790168ec",
   "metadata": {},
   "source": [
    "## Data Overview"
   ]
  },
  {
   "cell_type": "code",
   "execution_count": null,
   "id": "b2f5b2cc",
   "metadata": {},
   "outputs": [],
   "source": [
    "# Display dataset info and first few rows\n",
    "df.info()\n",
    "df.head()"
   ]
  },
  {
   "cell_type": "code",
   "execution_count": null,
   "id": "ae0e76ef",
   "metadata": {},
   "outputs": [],
   "source": [
    "# Set visualization style\n",
    "sns.set_style(\"whitegrid\")"
   ]
  },
  {
   "cell_type": "markdown",
   "id": "89e315b1",
   "metadata": {},
   "source": [
    "## Distribution of Car Prices"
   ]
  },
  {
   "cell_type": "code",
   "execution_count": null,
   "id": "3eea45ca",
   "metadata": {},
   "outputs": [],
   "source": [
    "plt.figure(figsize=(8, 5))\n",
    "sns.histplot(df[\"Price\"], bins=50, kde=True, color=\"blue\")\n",
    "plt.title(\"Distribution of Car Prices\", fontsize=14)\n",
    "plt.xlabel(\"Price\", fontsize=12)\n",
    "plt.ylabel(\"Frequency\", fontsize=12)\n",
    "plt.show()"
   ]
  },
  {
   "cell_type": "markdown",
   "id": "ad40d17f",
   "metadata": {},
   "source": [
    "## Correlation Analysis"
   ]
  },
  {
   "cell_type": "code",
   "execution_count": null,
   "id": "dab17944",
   "metadata": {},
   "outputs": [],
   "source": [
    "plt.figure(figsize=(8, 6))\n",
    "sns.heatmap(df.corr(numeric_only=True), annot=True, cmap=\"coolwarm\", fmt=\".2f\", linewidths=0.5)\n",
    "plt.title(\"Correlation Matrix of Numerical Features\", fontsize=14)\n",
    "plt.show()"
   ]
  },
  {
   "cell_type": "markdown",
   "id": "b2b51ce1",
   "metadata": {},
   "source": [
    "## Price Distribution by Brand"
   ]
  },
  {
   "cell_type": "code",
   "execution_count": null,
   "id": "93c3187e",
   "metadata": {},
   "outputs": [],
   "source": [
    "top_brands = df[\"Brand\"].value_counts().nlargest(10).index\n",
    "plt.figure(figsize=(12, 6))\n",
    "sns.boxplot(data=df[df[\"Brand\"].isin(top_brands)], x=\"Brand\", y=\"Price\")\n",
    "plt.xticks(rotation=45)\n",
    "plt.title(\"Car Price Distribution by Top 10 Brands\", fontsize=14)\n",
    "plt.xlabel(\"Brand\", fontsize=12)\n",
    "plt.ylabel(\"Price\", fontsize=12)\n",
    "plt.show()"
   ]
  },
  {
   "cell_type": "markdown",
   "id": "dcb405a9",
   "metadata": {},
   "source": [
    "## Price Distribution by Fuel Type"
   ]
  },
  {
   "cell_type": "code",
   "execution_count": null,
   "id": "8a6bfeb6",
   "metadata": {},
   "outputs": [],
   "source": [
    "plt.figure(figsize=(8, 5))\n",
    "sns.boxplot(data=df, x=\"Fuel_Type\", y=\"Price\", palette=\"Set2\")\n",
    "plt.title(\"Car Price Distribution by Fuel Type\", fontsize=14)\n",
    "plt.xlabel(\"Fuel Type\", fontsize=12)\n",
    "plt.ylabel(\"Price\", fontsize=12)\n",
    "plt.show()"
   ]
  },
  {
   "cell_type": "markdown",
   "id": "16aa0ba7",
   "metadata": {},
   "source": [
    "## Section 5: Price Distribution by Transmission"
   ]
  },
  {
   "cell_type": "code",
   "execution_count": null,
   "id": "5826a1ef",
   "metadata": {},
   "outputs": [],
   "source": [
    "plt.figure(figsize=(8, 5))\n",
    "sns.boxplot(data=df, x=\"Transmission\", y=\"Price\", palette=\"coolwarm\")\n",
    "plt.title(\"Car Price Distribution by Transmission Type\", fontsize=14)\n",
    "plt.xlabel(\"Transmission\", fontsize=12)\n",
    "plt.ylabel(\"Price\", fontsize=12)\n",
    "plt.show()"
   ]
  },
  {
   "cell_type": "markdown",
   "id": "6072c02e",
   "metadata": {},
   "source": [
    "## Data Quality Check"
   ]
  },
  {
   "cell_type": "code",
   "execution_count": null,
   "id": "dab7c63b",
   "metadata": {},
   "outputs": [],
   "source": [
    "missing_values = df.isnull().sum()\n",
    "duplicate_rows = df.duplicated().sum()\n",
    "\n",
    "print(\"Missing Values:\", missing_values)\n",
    "print(\"\\nDuplicate Rows:\", duplicate_rows)"
   ]
  }
 ],
 "metadata": {
  "kernelspec": {
   "display_name": "Python 3",
   "language": "python",
   "name": "python3"
  },
  "language_info": {
   "codemirror_mode": {
    "name": "ipython",
    "version": 3
   },
   "file_extension": ".py",
   "mimetype": "text/x-python",
   "name": "python",
   "nbconvert_exporter": "python",
   "pygments_lexer": "ipython3",
   "version": "3.13.2"
  }
 },
 "nbformat": 4,
 "nbformat_minor": 5
}
