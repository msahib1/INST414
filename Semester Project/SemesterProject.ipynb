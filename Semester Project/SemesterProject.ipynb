{
 "cells": [
  {
   "cell_type": "markdown",
   "id": "49f1ac9e",
   "metadata": {},
   "source": [
    "## Supervised Learning - Predicting Car Prices"
   ]
  },
  {
   "cell_type": "markdown",
   "id": "6302a24c",
   "metadata": {},
   "source": [
    "## Import Libraries"
   ]
  },
  {
   "cell_type": "code",
   "execution_count": 10,
   "id": "0279a739",
   "metadata": {},
   "outputs": [],
   "source": [
    "import pandas as pd\n",
    "import matplotlib.pyplot as plt\n",
    "import seaborn as sns\n",
    "from sklearn.model_selection import train_test_split\n",
    "from sklearn.linear_model import LinearRegression\n",
    "from sklearn.ensemble import RandomForestRegressor\n",
    "from sklearn.metrics import mean_squared_error, r2_score"
   ]
  },
  {
   "cell_type": "markdown",
   "id": "c307a714",
   "metadata": {},
   "source": [
    "## Load the dataset"
   ]
  },
  {
   "cell_type": "code",
   "execution_count": 11,
   "id": "dc5dc875",
   "metadata": {},
   "outputs": [],
   "source": [
    "df = pd.read_csv(\"car_price_dataset.csv\")"
   ]
  },
  {
   "cell_type": "markdown",
   "id": "302e0012",
   "metadata": {},
   "source": [
    "## Clean and preprocess"
   ]
  },
  {
   "cell_type": "code",
   "execution_count": 12,
   "id": "5a41ad4f",
   "metadata": {},
   "outputs": [],
   "source": [
    "df['Brand'] = df['Brand'].str.strip().str.title()\n",
    "df['Model'] = df['Model'].str.strip().str.upper()\n",
    "df['Fuel_Type'] = df['Fuel_Type'].str.strip().str.capitalize()\n",
    "df['Transmission'] = df['Transmission'].str.strip().str.capitalize()"
   ]
  },
  {
   "cell_type": "markdown",
   "id": "a6dab2cd",
   "metadata": {},
   "source": [
    "## Drop model due to high cardinality"
   ]
  },
  {
   "cell_type": "code",
   "execution_count": 13,
   "id": "bc9e573c",
   "metadata": {},
   "outputs": [],
   "source": [
    "X = df.drop(columns=[\"Price\", \"Model\"])\n",
    "y = df[\"Price\"]"
   ]
  },
  {
   "cell_type": "markdown",
   "id": "5a0978c1",
   "metadata": {},
   "source": [
    "## One-hot encode categorical variables"
   ]
  },
  {
   "cell_type": "code",
   "execution_count": 14,
   "id": "c6c1bd23",
   "metadata": {},
   "outputs": [],
   "source": [
    "X_encoded = pd.get_dummies(X, columns=[\"Brand\", \"Fuel_Type\", \"Transmission\"], drop_first=True)"
   ]
  },
  {
   "cell_type": "markdown",
   "id": "0b547e75",
   "metadata": {},
   "source": [
    "## Split the data"
   ]
  },
  {
   "cell_type": "code",
   "execution_count": 15,
   "id": "239d231a",
   "metadata": {},
   "outputs": [],
   "source": [
    "X_train, X_test, y_train, y_test = train_test_split(X_encoded, y, test_size=0.2, random_state=42)"
   ]
  },
  {
   "cell_type": "markdown",
   "id": "827a18d8",
   "metadata": {},
   "source": [
    "## Train Linear Regression"
   ]
  },
  {
   "cell_type": "code",
   "execution_count": 16,
   "id": "a62a8a5f",
   "metadata": {},
   "outputs": [],
   "source": [
    "linreg = LinearRegression()\n",
    "linreg.fit(X_train, y_train)\n",
    "y_pred_lin = linreg.predict(X_test)"
   ]
  },
  {
   "cell_type": "markdown",
   "id": "2a9a1396",
   "metadata": {},
   "source": [
    "## Train Random Forest"
   ]
  },
  {
   "cell_type": "code",
   "execution_count": 17,
   "id": "432df619",
   "metadata": {},
   "outputs": [],
   "source": [
    "rf = RandomForestRegressor(n_estimators=100, random_state=42)\n",
    "rf.fit(X_train, y_train)\n",
    "y_pred_rf = rf.predict(X_test)"
   ]
  },
  {
   "cell_type": "markdown",
   "id": "7d89eb6c",
   "metadata": {},
   "source": [
    "## Evaluation"
   ]
  },
  {
   "cell_type": "code",
   "execution_count": 18,
   "id": "0e2f8ff2",
   "metadata": {},
   "outputs": [
    {
     "name": "stdout",
     "output_type": "stream",
     "text": [
      "Linear Regression:\n",
      "RMSE: 64.77468360086043\n",
      "R2 Score: 0.9995433341795983\n",
      "\n",
      "Random Forest:\n",
      "RMSE: 523.7639248508817\n",
      "R2 Score: 0.9701421128891045\n"
     ]
    }
   ],
   "source": [
    "import numpy as np\n",
    "\n",
    "print(\"Linear Regression:\")\n",
    "print(\"RMSE:\", np.sqrt(mean_squared_error(y_test, y_pred_lin)))\n",
    "print(\"R2 Score:\", r2_score(y_test, y_pred_lin))\n",
    "\n",
    "print(\"\\nRandom Forest:\")\n",
    "print(\"RMSE:\", np.sqrt(mean_squared_error(y_test, y_pred_rf)))\n",
    "print(\"R2 Score:\", r2_score(y_test, y_pred_rf))"
   ]
  },
  {
   "cell_type": "markdown",
   "id": "984ca309",
   "metadata": {},
   "source": [
    "## Feature Importance Plot (Random Forest)"
   ]
  },
  {
   "cell_type": "code",
   "execution_count": 19,
   "id": "5e98e14a",
   "metadata": {},
   "outputs": [
    {
     "data": {
      "image/png": "[encoded data removed]",
      "text/plain": [
       "<Figure size 800x400 with 1 Axes>"
      ]
     },
     "metadata": {},
     "output_type": "display_data"
    }
   ],
   "source": [
    "importances = pd.Series(rf.feature_importances_, index=X_train.columns).sort_values(ascending=False)\n",
    "plt.figure(figsize=(8, 4))\n",
    "sns.barplot(x=importances.values[:10], y=importances.index[:10])\n",
    "plt.title(\"Top 10 Feature Importances - Random Forest\")\n",
    "plt.xlabel(\"Importance Score\")\n",
    "plt.tight_layout()\n",
    "plt.savefig(\"feature_importance_rf.png\")\n",
    "plt.show()"
   ]
  }
 ],
 "metadata": {
  "kernelspec": {
   "display_name": "Python 3",
   "language": "python",
   "name": "python3"
  },
  "language_info": {
   "codemirror_mode": {
    "name": "ipython",
    "version": 3
   },
   "file_extension": ".py",
   "mimetype": "text/x-python",
   "name": "python",
   "nbconvert_exporter": "python",
   "pygments_lexer": "ipython3",
   "version": "3.13.3"
  }
 },
 "nbformat": 4,
 "nbformat_minor": 5
}
